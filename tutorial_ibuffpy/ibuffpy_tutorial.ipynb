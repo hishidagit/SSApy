{
 "cells": [
  {
   "cell_type": "markdown",
   "id": "d0c3ed66-0b23-4b9f-a3d3-23ca286ca6cf",
   "metadata": {},
   "source": [
    "# Tutorial for ibuffpy"
   ]
  },
  {
   "cell_type": "markdown",
   "id": "6e8abcac-bf83-4c6e-abb1-53973195c0a9",
   "metadata": {},
   "source": [
    "We demonstrate how to use ibuffpy in several examples. The theoretical backgrounds are described in our paper.\n",
    "\n",
    "**Yuhei Yamauchi, Atsuki Hishida, Takashi Okada, and Atsushi Mochizuki, Finding regulatory modules of chemical reaction systems, bioRxiv 2023**"
   ]
  },
  {
   "cell_type": "markdown",
   "id": "9c637632-7706-4e0d-8212-fb754ed4ec3a",
   "metadata": {},
   "source": [
    "To install ibuffpy, run the following command:\n",
    "\n",
    "$ pip install ibuffpy"
   ]
  },
  {
   "cell_type": "code",
   "execution_count": 1,
   "id": "5accc649-d437-4ea4-86e1-3d82c32c2fb5",
   "metadata": {},
   "outputs": [
    {
     "data": {
      "text/plain": [
       "<module 'ibuffpy.ReactionNetwork' from '/opt/anaconda3/lib/python3.8/site-packages/ibuffpy/ReactionNetwork.py'>"
      ]
     },
     "execution_count": 1,
     "metadata": {},
     "output_type": "execute_result"
    }
   ],
   "source": [
    "from ibuffpy import ReactionNetwork\n",
    "import importlib\n",
    "importlib.reload(ReactionNetwork)"
   ]
  },
  {
   "cell_type": "code",
   "execution_count": 2,
   "id": "0f7eefc3-3fae-4e00-8abf-652a6c8bd68a",
   "metadata": {},
   "outputs": [],
   "source": [
    "import matplotlib.pyplot as plt\n",
    "import numpy as np\n",
    "import pandas as pd\n",
    "\n",
    "import networkx as nx\n",
    "from networkx.drawing.nx_agraph import graphviz_layout"
   ]
  },
  {
   "cell_type": "markdown",
   "id": "e1788730-4954-49f2-84be-0d7deeb6ec89",
   "metadata": {},
   "source": [
    "## Example 1"
   ]
  },
  {
   "cell_type": "markdown",
   "id": "18d99de0-4a5a-43c9-b339-84621a3e02d4",
   "metadata": {},
   "source": [
    "We consider a chemical reaction network (CRN), as shown below (Yamauchi et al., 2023 Figs. 1 and 2). Nodes represent chemicals, and arrows indicate chemical reactions."
   ]
  },
  {
   "attachments": {},
   "cell_type": "markdown",
   "id": "c508d7eb-9018-4d53-aabb-e3218b53785d",
   "metadata": {},
   "source": [
    "<img src=\"./figure/example1.png\" width=\"500\"> "
   ]
  },
  {
   "cell_type": "markdown",
   "id": "997dfff6-006a-4e04-9e68-84f67efc09e2",
   "metadata": {},
   "source": [
    "The information of the CRN is summarizes in \"example1.csv\"."
   ]
  },
  {
   "cell_type": "code",
   "execution_count": 3,
   "id": "f6f4fd92-b35d-4cf3-9321-13d93b65ad55",
   "metadata": {},
   "outputs": [
    {
     "data": {
      "text/html": [
       "<div>\n",
       "<style scoped>\n",
       "    .dataframe tbody tr th:only-of-type {\n",
       "        vertical-align: middle;\n",
       "    }\n",
       "\n",
       "    .dataframe tbody tr th {\n",
       "        vertical-align: top;\n",
       "    }\n",
       "\n",
       "    .dataframe thead th {\n",
       "        text-align: right;\n",
       "    }\n",
       "</style>\n",
       "<table border=\"1\" class=\"dataframe\">\n",
       "  <thead>\n",
       "    <tr style=\"text-align: right;\">\n",
       "      <th></th>\n",
       "      <th>Reaction_index</th>\n",
       "      <th>Substrate</th>\n",
       "      <th>Product</th>\n",
       "      <th>Activator</th>\n",
       "      <th>Inhibitor</th>\n",
       "    </tr>\n",
       "  </thead>\n",
       "  <tbody>\n",
       "    <tr>\n",
       "      <th>0</th>\n",
       "      <td>1</td>\n",
       "      <td>NaN</td>\n",
       "      <td>P</td>\n",
       "      <td>NaN</td>\n",
       "      <td>NaN</td>\n",
       "    </tr>\n",
       "    <tr>\n",
       "      <th>1</th>\n",
       "      <td>2</td>\n",
       "      <td>P</td>\n",
       "      <td>Q</td>\n",
       "      <td>NaN</td>\n",
       "      <td>NaN</td>\n",
       "    </tr>\n",
       "    <tr>\n",
       "      <th>2</th>\n",
       "      <td>3</td>\n",
       "      <td>Q</td>\n",
       "      <td>R</td>\n",
       "      <td>NaN</td>\n",
       "      <td>NaN</td>\n",
       "    </tr>\n",
       "    <tr>\n",
       "      <th>3</th>\n",
       "      <td>4</td>\n",
       "      <td>R</td>\n",
       "      <td>NaN</td>\n",
       "      <td>NaN</td>\n",
       "      <td>NaN</td>\n",
       "    </tr>\n",
       "  </tbody>\n",
       "</table>\n",
       "</div>"
      ],
      "text/plain": [
       "   Reaction_index Substrate Product  Activator  Inhibitor\n",
       "0               1       NaN       P        NaN        NaN\n",
       "1               2         P       Q        NaN        NaN\n",
       "2               3         Q       R        NaN        NaN\n",
       "3               4         R     NaN        NaN        NaN"
      ]
     },
     "execution_count": 3,
     "metadata": {},
     "output_type": "execute_result"
    }
   ],
   "source": [
    "crn_pd_example1= pd.read_csv (\"example1.csv\")\n",
    "crn_pd_example1"
   ]
  },
  {
   "cell_type": "markdown",
   "id": "2552de76-8b4a-4ba9-b777-06b5ad7d7d07",
   "metadata": {},
   "source": [
    "Each row in the dataframe corresponds to each reaction.<br>\n",
    "The first column (\"Reaction_id\") represents the reaction ID.<br>\n",
    "The second column (\"Substrate\") and the third column (\"Product\") represents the substrate and the product of the reaction, respectively.<br>\n",
    "The fourth (\"Activator\") and fifth column (\"Inhibitor\") represents the set of chemicals that regulate the flux of the reaction positively or negatively, respectively. <br>\n",
    "\n",
    "If there is no chemical in a cell of the dataframe, \"np.nan\" is placed. If there are multiple chemicals in a cell, use some seperators such as space (defalut) or comma (,)."
   ]
  },
  {
   "cell_type": "markdown",
   "id": "8ae04569-2386-4a0b-90c8-97ea4085c45f",
   "metadata": {},
   "source": [
    "First, we construct a new instance of the ReactionNetwork class. If you start from pandas dataframe, the function ReactionNetwork.from_pandas should be used."
   ]
  },
  {
   "cell_type": "code",
   "execution_count": 18,
   "id": "3996edc0-8c38-43f2-87d4-df3d8fc87014",
   "metadata": {},
   "outputs": [
    {
     "name": "stdout",
     "output_type": "stream",
     "text": [
      "constructed.\n",
      "out node\n",
      "M =  3\n",
      "R =  4\n"
     ]
    }
   ],
   "source": [
    "# construct a class\n",
    "network_example1 = ReactionNetwork.from_pandas(crn_pd_example1, ker_basis='svd', cq_basis='rref', sep = \",\")\n",
    "#sep = \",\" means chemicals in each cell in the pandas dataframe are seperated by comma (by default, sep = \" \"(space))."
   ]
  },
  {
   "cell_type": "markdown",
   "id": "a5a15301-10a7-44ed-a495-91495d7e2d44",
   "metadata": {},
   "source": [
    "The argument ker_basis shows how to calculate the basis for the nullspace of $\\mathrm{ker} \\hspace{2pt} \\boldsymbol{\\nu}$ (cycles), where $\\boldsymbol{\\nu}$ is the stoichiometric matrix.<br>\n",
    "The argument cq_basis show how to calculate the basis for the nullspace of $\\mathrm{ker} \\hspace{2pt} \\boldsymbol{\\nu}^{\\top}$ (conserved quantities).<br>\n",
    "\n",
    "If 'svd', nullspace vectors are calculated via singular value decomposition (SVD). \n",
    "If 'rref', RREF is used.\n",
    "You can use basis of your own making (should be the row vectors).\n",
    "\n",
    "\n",
    "In general, 'svd' is faster than 'rref', but results in non-sparse vectors.\n",
    "For ker_basis, the choice of the basis does not affect the result, hence 'svd' is recommended.\n",
    "For cq_basis, the choice of the basis can affect the result, and 'rref' is recommended."
   ]
  },
  {
   "cell_type": "markdown",
   "id": "66af93ff-14b9-4e66-846c-1354fdb27e83",
   "metadata": {},
   "source": [
    "The chemicals and reactions are"
   ]
  },
  {
   "cell_type": "code",
   "execution_count": 5,
   "id": "699dde58-9e5e-42e3-86e5-60309d82316f",
   "metadata": {},
   "outputs": [
    {
     "name": "stdout",
     "output_type": "stream",
     "text": [
      "The number of chemicals is 3.\n",
      "The number of reactions is 4.\n",
      "The set of chemicals is ['P', 'Q', 'R'].\n",
      "The set of reactions is ['1', '2', '3', '4'].\n"
     ]
    }
   ],
   "source": [
    "print(f'The number of chemicals is {network_example1.M}.')\n",
    "print(f'The number of reactions is {network_example1.R}.')\n",
    "print(f'The set of chemicals is {network_example1.cpd_list_noout}.')\n",
    "print(f'The set of reactions is {network_example1.reactionNames}.')"
   ]
  },
  {
   "cell_type": "markdown",
   "id": "aa787f23-7939-44a7-b007-f07bc0f938e2",
   "metadata": {},
   "source": [
    "The stoichiometric matrix is obtained by self.stoi.\n",
    "A stoichiometry matrix is an M-by-R matrix, where M equals the total number of species in a model, and R equals the total number of reactions in a model. Each row corresponds to a species, and each column corresponds to a reaction."
   ]
  },
  {
   "cell_type": "code",
   "execution_count": 21,
   "id": "b7929a52-4aba-4202-9672-ff7a7712b33b",
   "metadata": {},
   "outputs": [
    {
     "data": {
      "text/html": [
       "<div>\n",
       "<style scoped>\n",
       "    .dataframe tbody tr th:only-of-type {\n",
       "        vertical-align: middle;\n",
       "    }\n",
       "\n",
       "    .dataframe tbody tr th {\n",
       "        vertical-align: top;\n",
       "    }\n",
       "\n",
       "    .dataframe thead th {\n",
       "        text-align: right;\n",
       "    }\n",
       "</style>\n",
       "<table border=\"1\" class=\"dataframe\">\n",
       "  <thead>\n",
       "    <tr style=\"text-align: right;\">\n",
       "      <th></th>\n",
       "      <th>1</th>\n",
       "      <th>2</th>\n",
       "      <th>3</th>\n",
       "      <th>4</th>\n",
       "    </tr>\n",
       "  </thead>\n",
       "  <tbody>\n",
       "    <tr>\n",
       "      <th>P</th>\n",
       "      <td>1.0</td>\n",
       "      <td>-1.0</td>\n",
       "      <td>0.0</td>\n",
       "      <td>0.0</td>\n",
       "    </tr>\n",
       "    <tr>\n",
       "      <th>Q</th>\n",
       "      <td>0.0</td>\n",
       "      <td>1.0</td>\n",
       "      <td>-1.0</td>\n",
       "      <td>0.0</td>\n",
       "    </tr>\n",
       "    <tr>\n",
       "      <th>R</th>\n",
       "      <td>0.0</td>\n",
       "      <td>0.0</td>\n",
       "      <td>1.0</td>\n",
       "      <td>-1.0</td>\n",
       "    </tr>\n",
       "  </tbody>\n",
       "</table>\n",
       "</div>"
      ],
      "text/plain": [
       "     1    2    3    4\n",
       "P  1.0 -1.0  0.0  0.0\n",
       "Q  0.0  1.0 -1.0  0.0\n",
       "R  0.0  0.0  1.0 -1.0"
      ]
     },
     "execution_count": 21,
     "metadata": {},
     "output_type": "execute_result"
    }
   ],
   "source": [
    "stoi1=network_example1.stoi#show the stoichiometric matrix using pandas.\n",
    "pd.DataFrame (stoi1, columns = network_example1.reactionNames, index = network_example1.cpd_list_noout)"
   ]
  },
  {
   "cell_type": "markdown",
   "id": "7f9a802f-e307-43c4-92a5-4b4e5184c8dc",
   "metadata": {},
   "source": [
    "For example, from the first colum, you can see that when the reaction 1 proceed at one time, the number of the chemical P increase by one, but the number of the chemical Q or R is not changed.\n",
    "Similary, from the second colum, you can see that when the reaction 2 proceed at one time, the number of the chemical P and Q decrease and oncrease by one, respectively.<br>\n",
    "\n",
    "The basis for cycles and the conserved quantites are given by self.ns and self.ns2, respectively. Both are given by column vector."
   ]
  },
  {
   "cell_type": "code",
   "execution_count": 22,
   "id": "461b3282-1f63-4c23-8245-80367eebb792",
   "metadata": {},
   "outputs": [
    {
     "name": "stdout",
     "output_type": "stream",
     "text": [
      "Cycles \n",
      "[[0.5]\n",
      " [0.5]\n",
      " [0.5]\n",
      " [0.5]]\n",
      "Conserved quantities\n",
      "[]\n"
     ]
    }
   ],
   "source": [
    "print(f'Cycles \\n{network_example1.ns}')\n",
    "print(f'Conserved quantities\\n{network_example1.ns2}')#No conserved quantity"
   ]
  },
  {
   "cell_type": "markdown",
   "id": "18ae94d2-8661-4695-8f62-6f845b596d33",
   "metadata": {},
   "source": [
    "### Finding buffering structure"
   ]
  },
  {
   "cell_type": "markdown",
   "id": "12aefd73-a522-48d8-8f66-ffbf14358e36",
   "metadata": {},
   "source": [
    "Buffering structures are identified using the function ReactionNetwork.compute_bs (self), which returns a list of buffering structures."
   ]
  },
  {
   "cell_type": "code",
   "execution_count": 23,
   "id": "036d09f2-28c3-4f2c-9498-12d2c42ad259",
   "metadata": {},
   "outputs": [
    {
     "name": "stdout",
     "output_type": "stream",
     "text": [
      "Buffering structures\n",
      "[[['P'], ['2']], [['Q'], ['3']], [['R'], ['4']], [['P', 'Q', 'R'], ['1', '2', '3', '4']]]\n"
     ]
    }
   ],
   "source": [
    "#Find buffering structures\n",
    "bs_example1 = ReactionNetwork.compute_bs(network_example1)\n",
    "print (f'Buffering structures\\n{bs_example1}')"
   ]
  },
  {
   "cell_type": "markdown",
   "id": "869e4522-f6e5-4e19-a2f4-067132c3a044",
   "metadata": {},
   "source": [
    "Each buffering structure is represented by the list of list (The first element= the set of chemicals, the second element = the set of reactions).\n",
    "\n",
    "From this result, all buffering structures are as follows."
   ]
  },
  {
   "attachments": {},
   "cell_type": "markdown",
   "id": "da2fc7a6-1024-4fa4-b45a-8f6a40a8b9c7",
   "metadata": {},
   "source": [
    "<img src=\"./figure/example1_bs.png\" width=\"500\"> "
   ]
  },
  {
   "cell_type": "markdown",
   "id": "e72b3fd4-6317-4e77-85f0-5c0805b1d6e5",
   "metadata": {},
   "source": [
    "You can obtain a hierarchy graph, which visualizes the regulatory patterns of the network."
   ]
  },
  {
   "cell_type": "code",
   "execution_count": 24,
   "id": "4eab7c2c-02ad-4857-a0bf-9ce64f9b8036",
   "metadata": {},
   "outputs": [],
   "source": [
    "# draw a hierarchy\n",
    "#pygraphviz is required\n",
    "hier_agraph_example1 = ReactionNetwork.make_hiergraph(bs_example1)\n",
    "hier_agraph_example1.draw(f'./figure/hier_example1.png')"
   ]
  },
  {
   "cell_type": "markdown",
   "id": "ac7c69ba-5d0a-46ff-b6e1-823b4be9a0d6",
   "metadata": {},
   "source": [
    "The hierarchy graph is"
   ]
  },
  {
   "attachments": {},
   "cell_type": "markdown",
   "id": "dbcc140f-2462-4e2a-bf20-d30cf57cdd35",
   "metadata": {},
   "source": [
    "<img src=\"./figure/hier_example1.png\" width=\"300\"> "
   ]
  },
  {
   "cell_type": "markdown",
   "id": "a5d26c0e-d412-4ece-90a1-b754a4c199ab",
   "metadata": {},
   "source": [
    "Each node plus its downstream nodes corresponds to a buffering structure.<br>\n",
    "\n",
    "The hierarchy graph also summarizes the nonzero response pattern, i.e., modulating the enzyme activity of reactions within a square box can lead to nonzero responses in the chemicals within that box and those in the lower boxes, while leaving the other chemicals unaffected.<br>\n",
    "\n",
    "For example, from the hierarchy graph, you can see that the perturbation to the reaction rate parameter of the reaction 1 affects P, Q, and R, since these chemcials are located downstream of the box containing the reaction 1.\n",
    "Similary, the perturbation to the reaction rate parameter of the reaction 2 affects only P, since P is included in the box containing the reaction 1, but the box containing Q or R are not located downstream of the box containing the reaction 1."
   ]
  },
  {
   "cell_type": "markdown",
   "id": "abbeeacc-fe54-4f74-abb5-04ecaa80ed6e",
   "metadata": {},
   "source": [
    "### Calculating sensitivity"
   ]
  },
  {
   "cell_type": "markdown",
   "id": "82ca2a07-d158-4e04-aab2-f8c095f3dd18",
   "metadata": {},
   "source": [
    "Our algorithm to find buffering structures are based on structural sensitivity analysis (SSA).\n",
    "\n",
    "This analysis allows us to determine qualitative changes in the steady-state concentration of each chemical in response to changes in a reaction rate parameter (Mochizuki and Fidler,. Journal of theoretical biology 2015, Okada and Mochizuki,. Physical review letters 2016).\n",
    "\n",
    "The SSA is done by the method compute_smat_mean. In this method, random values are assigned to $r_{j,m} \\neq 0$ in the matirx $\\boldsymbol{A}$  (see Section 2 of Yamauchi et al., 2023) and the $\\boldsymbol{S}\\coloneqq -\\boldsymbol{A}^{-1}$ are caluclated numerically.\n",
    "\n",
    "$\\boldsymbol{S}$ is called a sensitivity matrix.\n",
    "We repeat this for N times (10 times by defalult) and the mean of $\\boldsymbol{S}$ is calculated. Using this mean, we determine the zero distribution of $\\boldsymbol{S}$."
   ]
  },
  {
   "cell_type": "code",
   "execution_count": 25,
   "id": "22136347-7630-41a1-b6c8-4fe390c0e38f",
   "metadata": {},
   "outputs": [
    {
     "data": {
      "text/html": [
       "<div>\n",
       "<style scoped>\n",
       "    .dataframe tbody tr th:only-of-type {\n",
       "        vertical-align: middle;\n",
       "    }\n",
       "\n",
       "    .dataframe tbody tr th {\n",
       "        vertical-align: top;\n",
       "    }\n",
       "\n",
       "    .dataframe thead th {\n",
       "        text-align: right;\n",
       "    }\n",
       "</style>\n",
       "<table border=\"1\" class=\"dataframe\">\n",
       "  <thead>\n",
       "    <tr style=\"text-align: right;\">\n",
       "      <th></th>\n",
       "      <th>1</th>\n",
       "      <th>2</th>\n",
       "      <th>3</th>\n",
       "      <th>4</th>\n",
       "    </tr>\n",
       "  </thead>\n",
       "  <tbody>\n",
       "    <tr>\n",
       "      <th>P</th>\n",
       "      <td>1</td>\n",
       "      <td>1</td>\n",
       "      <td>0</td>\n",
       "      <td>0</td>\n",
       "    </tr>\n",
       "    <tr>\n",
       "      <th>Q</th>\n",
       "      <td>1</td>\n",
       "      <td>0</td>\n",
       "      <td>1</td>\n",
       "      <td>0</td>\n",
       "    </tr>\n",
       "    <tr>\n",
       "      <th>R</th>\n",
       "      <td>1</td>\n",
       "      <td>0</td>\n",
       "      <td>0</td>\n",
       "      <td>1</td>\n",
       "    </tr>\n",
       "  </tbody>\n",
       "</table>\n",
       "</div>"
      ],
      "text/plain": [
       "   1  2  3  4\n",
       "P  1  1  0  0\n",
       "Q  1  0  1  0\n",
       "R  1  0  0  1"
      ]
     },
     "execution_count": 25,
     "metadata": {},
     "output_type": "execute_result"
    }
   ],
   "source": [
    "sensitivity_mat= network_example1.compute_smat_mean(N=10)\n",
    "#Display the sensitivity matrix by using pandas.\n",
    "sensitivity_mat=pd.DataFrame (sensitivity_mat[:network_example1.M], columns = network_example1.reactionNames, index = network_example1.cpd_list_noout)\n",
    "sensitivity_mat.applymap (lambda x: 0 if np.abs (x)<1e-10 else 1)"
   ]
  },
  {
   "cell_type": "markdown",
   "id": "a1d003f6-8c44-4a82-a566-011ca80cea3d",
   "metadata": {},
   "source": [
    "The signs of changes in the steady-state concentraions of each chemical can also be determined from network topology.\n",
    "\"compute_smat_sign\" method can be used for this purpose."
   ]
  },
  {
   "cell_type": "code",
   "execution_count": 26,
   "id": "3bae2b8f-a53f-4f02-8fac-d6e8ff58f7c1",
   "metadata": {},
   "outputs": [
    {
     "data": {
      "text/html": [
       "<div>\n",
       "<style scoped>\n",
       "    .dataframe tbody tr th:only-of-type {\n",
       "        vertical-align: middle;\n",
       "    }\n",
       "\n",
       "    .dataframe tbody tr th {\n",
       "        vertical-align: top;\n",
       "    }\n",
       "\n",
       "    .dataframe thead th {\n",
       "        text-align: right;\n",
       "    }\n",
       "</style>\n",
       "<table border=\"1\" class=\"dataframe\">\n",
       "  <thead>\n",
       "    <tr style=\"text-align: right;\">\n",
       "      <th></th>\n",
       "      <th>1</th>\n",
       "      <th>2</th>\n",
       "      <th>3</th>\n",
       "      <th>4</th>\n",
       "    </tr>\n",
       "  </thead>\n",
       "  <tbody>\n",
       "    <tr>\n",
       "      <th>P</th>\n",
       "      <td>+</td>\n",
       "      <td>-</td>\n",
       "      <td>0</td>\n",
       "      <td>0</td>\n",
       "    </tr>\n",
       "    <tr>\n",
       "      <th>Q</th>\n",
       "      <td>+</td>\n",
       "      <td>0</td>\n",
       "      <td>-</td>\n",
       "      <td>0</td>\n",
       "    </tr>\n",
       "    <tr>\n",
       "      <th>R</th>\n",
       "      <td>+</td>\n",
       "      <td>0</td>\n",
       "      <td>0</td>\n",
       "      <td>-</td>\n",
       "    </tr>\n",
       "  </tbody>\n",
       "</table>\n",
       "</div>"
      ],
      "text/plain": [
       "   1  2  3  4\n",
       "P  +  -  0  0\n",
       "Q  +  0  -  0\n",
       "R  +  0  0  -"
      ]
     },
     "execution_count": 26,
     "metadata": {},
     "output_type": "execute_result"
    }
   ],
   "source": [
    "sensitivity_mat_sign=network_example1.compute_smat_sign()\n",
    "pd.DataFrame (sensitivity_mat_sign[:network_example1.M], columns = network_example1.reactionNames, index = network_example1.cpd_list_noout)"
   ]
  },
  {
   "cell_type": "markdown",
   "id": "436ab38e-f2a8-46e7-814e-63a4ee6c6ac8",
   "metadata": {},
   "source": [
    "For example, from the second column, we can see that the increase in the reaction rate parameter of the reaction 2 results in a decrease in the steady-state concentration of the chemical P, but the steady-state concentrations of either Q or R are not affected."
   ]
  },
  {
   "cell_type": "markdown",
   "id": "0af39f92-a335-4fb2-86dd-ca53d83df428",
   "metadata": {},
   "source": [
    "## Example 2"
   ]
  },
  {
   "cell_type": "markdown",
   "id": "a6d81832-92cd-408e-9e48-a80ffdc3ae38",
   "metadata": {},
   "source": [
    "We consider a CRN with 6 chemicals (A,B,C,D,E,F) and 8 reactions ($1,\\ldots,8$) (Yamauchi et al., Fig. 2)"
   ]
  },
  {
   "cell_type": "markdown",
   "id": "257829d7-ec04-49b0-bbc5-9aa9998b4075",
   "metadata": {},
   "source": [
    "<img src=\"./figure/example2.png\" width=\"400\"> "
   ]
  },
  {
   "cell_type": "markdown",
   "id": "a56b157f-0938-4efb-af9d-b4335020afd6",
   "metadata": {},
   "source": [
    "Finding buffering structures and depicting the hierarchy graph cab be done in the same way as Example 1."
   ]
  },
  {
   "cell_type": "code",
   "execution_count": 12,
   "id": "f011e3c6-0003-416f-a48e-1569b45f3b2a",
   "metadata": {},
   "outputs": [
    {
     "data": {
      "text/html": [
       "<div>\n",
       "<style scoped>\n",
       "    .dataframe tbody tr th:only-of-type {\n",
       "        vertical-align: middle;\n",
       "    }\n",
       "\n",
       "    .dataframe tbody tr th {\n",
       "        vertical-align: top;\n",
       "    }\n",
       "\n",
       "    .dataframe thead th {\n",
       "        text-align: right;\n",
       "    }\n",
       "</style>\n",
       "<table border=\"1\" class=\"dataframe\">\n",
       "  <thead>\n",
       "    <tr style=\"text-align: right;\">\n",
       "      <th></th>\n",
       "      <th>Reaction_index</th>\n",
       "      <th>Substrate</th>\n",
       "      <th>Product</th>\n",
       "      <th>Activator</th>\n",
       "      <th>Inhibitor</th>\n",
       "    </tr>\n",
       "  </thead>\n",
       "  <tbody>\n",
       "    <tr>\n",
       "      <th>0</th>\n",
       "      <td>R1</td>\n",
       "      <td>NaN</td>\n",
       "      <td>A</td>\n",
       "      <td>NaN</td>\n",
       "      <td>NaN</td>\n",
       "    </tr>\n",
       "    <tr>\n",
       "      <th>1</th>\n",
       "      <td>R2</td>\n",
       "      <td>A</td>\n",
       "      <td>B</td>\n",
       "      <td>NaN</td>\n",
       "      <td>NaN</td>\n",
       "    </tr>\n",
       "    <tr>\n",
       "      <th>2</th>\n",
       "      <td>R3</td>\n",
       "      <td>B</td>\n",
       "      <td>C</td>\n",
       "      <td>NaN</td>\n",
       "      <td>NaN</td>\n",
       "    </tr>\n",
       "    <tr>\n",
       "      <th>3</th>\n",
       "      <td>R4</td>\n",
       "      <td>D</td>\n",
       "      <td>A</td>\n",
       "      <td>NaN</td>\n",
       "      <td>NaN</td>\n",
       "    </tr>\n",
       "    <tr>\n",
       "      <th>4</th>\n",
       "      <td>R5</td>\n",
       "      <td>E</td>\n",
       "      <td>B</td>\n",
       "      <td>NaN</td>\n",
       "      <td>NaN</td>\n",
       "    </tr>\n",
       "    <tr>\n",
       "      <th>5</th>\n",
       "      <td>R6</td>\n",
       "      <td>C,E</td>\n",
       "      <td>F</td>\n",
       "      <td>NaN</td>\n",
       "      <td>NaN</td>\n",
       "    </tr>\n",
       "    <tr>\n",
       "      <th>6</th>\n",
       "      <td>R7</td>\n",
       "      <td>D</td>\n",
       "      <td>E</td>\n",
       "      <td>NaN</td>\n",
       "      <td>NaN</td>\n",
       "    </tr>\n",
       "    <tr>\n",
       "      <th>7</th>\n",
       "      <td>R8</td>\n",
       "      <td>F</td>\n",
       "      <td>NaN</td>\n",
       "      <td>NaN</td>\n",
       "      <td>NaN</td>\n",
       "    </tr>\n",
       "  </tbody>\n",
       "</table>\n",
       "</div>"
      ],
      "text/plain": [
       "  Reaction_index Substrate Product  Activator  Inhibitor\n",
       "0             R1       NaN       A        NaN        NaN\n",
       "1             R2         A       B        NaN        NaN\n",
       "2             R3         B       C        NaN        NaN\n",
       "3             R4         D       A        NaN        NaN\n",
       "4             R5         E       B        NaN        NaN\n",
       "5             R6       C,E       F        NaN        NaN\n",
       "6             R7         D       E        NaN        NaN\n",
       "7             R8         F     NaN        NaN        NaN"
      ]
     },
     "execution_count": 12,
     "metadata": {},
     "output_type": "execute_result"
    }
   ],
   "source": [
    "crn_pd_example2= pd.read_csv (\"example2.csv\") \n",
    "crn_pd_example2"
   ]
  },
  {
   "cell_type": "code",
   "execution_count": 13,
   "id": "c84f8209-8f7a-4a41-8aaf-b095ee5ed840",
   "metadata": {},
   "outputs": [
    {
     "name": "stdout",
     "output_type": "stream",
     "text": [
      "constructed.\n",
      "out node\n",
      "M =  6\n",
      "R =  8\n",
      "Cycles\n",
      "[[ 0.59558453  0.23565967]\n",
      " [ 0.5562021  -0.31764073]\n",
      " [ 0.29779226  0.11782984]\n",
      " [-0.03938243 -0.5533004 ]\n",
      " [-0.25840984  0.43547056]\n",
      " [ 0.29779226  0.11782984]\n",
      " [ 0.03938243  0.5533004 ]\n",
      " [ 0.29779226  0.11782984]]\n",
      "Conserved quantities\n",
      "[]\n",
      "Buffering structures\n",
      "[[['A'], ['R2']], [['B'], ['R3']], [['C'], ['R6']], [['F'], ['R8']], [['C', 'E'], ['R5', 'R6']], [['A', 'C', 'D', 'E'], ['R2', 'R4', 'R5', 'R6', 'R7']], [['A', 'B', 'C', 'E', 'F'], ['R1', 'R2', 'R3', 'R5', 'R6', 'R8']]]\n"
     ]
    }
   ],
   "source": [
    "# construct a class\n",
    "network_example2 = ReactionNetwork.from_pandas(crn_pd_example2, sep = \",\")#ker_basis='svd', cq_basis='rref' by defalult\n",
    "print(f'Cycles\\n{network_example2.ns}')\n",
    "print(f'Conserved quantities\\n{network_example2.ns2}')#No conserved quantity\n",
    "\n",
    "#Find buffering structures\n",
    "bs_example2 = ReactionNetwork.compute_bs(network_example2)\n",
    "print (f'Buffering structures\\n{bs_example2}')\n",
    "\n",
    "# draw a hierarchy\n",
    "#pygraphviz is required\n",
    "hier_agraph_example2 = ReactionNetwork.make_hiergraph(bs_example2)\n",
    "hier_agraph_example2.draw(f'./figure/hier_example2.png')"
   ]
  },
  {
   "cell_type": "markdown",
   "id": "1e07277e-4395-4241-9529-ea6639d1aa71",
   "metadata": {},
   "source": [
    "The hierarchy graph is"
   ]
  },
  {
   "cell_type": "markdown",
   "id": "08c5c6f6-36dd-4703-b38a-07f9288b4007",
   "metadata": {},
   "source": [
    "<img src=\"./figure/hier_example2.png\" width=\"300\"> "
   ]
  },
  {
   "cell_type": "markdown",
   "id": "e47badaf-e5fc-490c-bd8e-421f9dc0c618",
   "metadata": {},
   "source": [
    "## Example 3"
   ]
  },
  {
   "cell_type": "markdown",
   "id": "685978a6-aac1-41a1-9e29-c321bf710550",
   "metadata": {},
   "source": [
    "We consider a CRN comprising six chemicals (A,B,C,D,E,F) and six reactions (1,2,3,4,5,6). Solid lines indicate chemical reactions, while the dashed line indicates active regulation (Yamauchi et al., Fig. S2)."
   ]
  },
  {
   "cell_type": "markdown",
   "id": "dae36aac-7050-43d7-9c9d-b45d4269d398",
   "metadata": {},
   "source": [
    "<img src=\"./figure/example3.png\" width=\"400\"> "
   ]
  },
  {
   "cell_type": "code",
   "execution_count": 14,
   "id": "7ce88e05-bf9f-4a89-bf86-4732ff39bf85",
   "metadata": {},
   "outputs": [
    {
     "data": {
      "text/html": [
       "<div>\n",
       "<style scoped>\n",
       "    .dataframe tbody tr th:only-of-type {\n",
       "        vertical-align: middle;\n",
       "    }\n",
       "\n",
       "    .dataframe tbody tr th {\n",
       "        vertical-align: top;\n",
       "    }\n",
       "\n",
       "    .dataframe thead th {\n",
       "        text-align: right;\n",
       "    }\n",
       "</style>\n",
       "<table border=\"1\" class=\"dataframe\">\n",
       "  <thead>\n",
       "    <tr style=\"text-align: right;\">\n",
       "      <th></th>\n",
       "      <th>Reaction_index</th>\n",
       "      <th>Substrate</th>\n",
       "      <th>Product</th>\n",
       "      <th>Activator</th>\n",
       "      <th>Inhibitor</th>\n",
       "    </tr>\n",
       "  </thead>\n",
       "  <tbody>\n",
       "    <tr>\n",
       "      <th>0</th>\n",
       "      <td>R1</td>\n",
       "      <td>A</td>\n",
       "      <td>B</td>\n",
       "      <td>NaN</td>\n",
       "      <td>NaN</td>\n",
       "    </tr>\n",
       "    <tr>\n",
       "      <th>1</th>\n",
       "      <td>R2</td>\n",
       "      <td>B</td>\n",
       "      <td>A</td>\n",
       "      <td>NaN</td>\n",
       "      <td>NaN</td>\n",
       "    </tr>\n",
       "    <tr>\n",
       "      <th>2</th>\n",
       "      <td>R3</td>\n",
       "      <td>C</td>\n",
       "      <td>D</td>\n",
       "      <td>B</td>\n",
       "      <td>NaN</td>\n",
       "    </tr>\n",
       "    <tr>\n",
       "      <th>3</th>\n",
       "      <td>R4</td>\n",
       "      <td>D</td>\n",
       "      <td>C</td>\n",
       "      <td>NaN</td>\n",
       "      <td>NaN</td>\n",
       "    </tr>\n",
       "    <tr>\n",
       "      <th>4</th>\n",
       "      <td>R5</td>\n",
       "      <td>E</td>\n",
       "      <td>F</td>\n",
       "      <td>D</td>\n",
       "      <td>NaN</td>\n",
       "    </tr>\n",
       "    <tr>\n",
       "      <th>5</th>\n",
       "      <td>R6</td>\n",
       "      <td>F</td>\n",
       "      <td>E</td>\n",
       "      <td>NaN</td>\n",
       "      <td>NaN</td>\n",
       "    </tr>\n",
       "  </tbody>\n",
       "</table>\n",
       "</div>"
      ],
      "text/plain": [
       "  Reaction_index Substrate Product Activator  Inhibitor\n",
       "0             R1         A       B       NaN        NaN\n",
       "1             R2         B       A       NaN        NaN\n",
       "2             R3         C       D         B        NaN\n",
       "3             R4         D       C       NaN        NaN\n",
       "4             R5         E       F         D        NaN\n",
       "5             R6         F       E       NaN        NaN"
      ]
     },
     "execution_count": 14,
     "metadata": {},
     "output_type": "execute_result"
    }
   ],
   "source": [
    "crn_pd_example3= pd.read_csv (\"example3.csv\") \n",
    "crn_pd_example3"
   ]
  },
  {
   "cell_type": "code",
   "execution_count": 15,
   "id": "17c4c084-e941-467c-aae8-137fed25dc83",
   "metadata": {},
   "outputs": [
    {
     "name": "stdout",
     "output_type": "stream",
     "text": [
      "constructed.\n",
      "no out node\n",
      "M =  6\n",
      "R =  6\n",
      "Cycles \n",
      "[[0.70710678 0.         0.        ]\n",
      " [0.70710678 0.         0.        ]\n",
      " [0.         0.70710678 0.        ]\n",
      " [0.         0.70710678 0.        ]\n",
      " [0.         0.         0.70710678]\n",
      " [0.         0.         0.70710678]]\n",
      "Conserved quantities\n",
      " [[1. 1. 0. 0. 0. 0.]\n",
      " [0. 0. 1. 1. 0. 0.]\n",
      " [0. 0. 0. 0. 1. 1.]]\n"
     ]
    }
   ],
   "source": [
    "# construct a class\n",
    "network_example3 = ReactionNetwork.from_pandas(crn_pd_example3, sep = \",\")#ker_basis='svd', coker_basis='rref' by defalult\n",
    "print(f'Cycles \\n{network_example3.ns}')\n",
    "print(f'Conserved quantities\\n {network_example3.ns2}')#No conserved quantity"
   ]
  },
  {
   "cell_type": "markdown",
   "id": "6bae6fb6-d8eb-43c4-a435-c3ede2245377",
   "metadata": {},
   "source": [
    "Unlike Example 1 or Example 2, this CRN has conserved quantities ($x_A+x_B$, $x_C+x_D$, and $x_E+x_F$).\n",
    "In the presence of conserved quantities, steady-state concentrations are affected not only by reaction rate parameters but also by the initial values of conserved quantities. Therefore, in this case, there are two types of perturbations; the perturbation of the reaction rate parameter and that of the conserved quantity.\n",
    "\n",
    "When the CRN has conserved quantities, choosing the cokernel basis requires caution.\n",
    "If the cokernel basis are chosen such that no two cokernel vectors share the support, such basis is suitable for finding buffering structures (see Proposition S2 in Yamauchi et al., bioRxiv 2023).\n",
    "\n",
    "In this example, no two conserved quantities (network_example3.ns2) share support, which is suitable for finding buffering structures."
   ]
  },
  {
   "cell_type": "code",
   "execution_count": 16,
   "id": "475c4524-7d0a-4faf-a66f-b4c1c20294bb",
   "metadata": {},
   "outputs": [
    {
     "name": "stdout",
     "output_type": "stream",
     "text": [
      "Buffering structures\n",
      "[[['E', 'F'], ['R5', 'R6', 'cons_2']], [['C', 'D', 'E', 'F'], ['R3', 'R4', 'R5', 'R6', 'cons_1', 'cons_2']], [['A', 'B', 'C', 'D', 'E', 'F'], ['R1', 'R2', 'R3', 'R4', 'R5', 'R6', 'cons_0', 'cons_1', 'cons_2']]]\n"
     ]
    }
   ],
   "source": [
    "#Find buffering structures\n",
    "bs_example3 = ReactionNetwork.compute_bs(network_example3)\n",
    "print (f'Buffering structures\\n{bs_example3}')\n",
    "\n",
    "# draw a hierarchy\n",
    "#pygraphviz is required\n",
    "hier_agraph_example3 = ReactionNetwork.make_hiergraph(bs_example3)\n",
    "hier_agraph_example3.draw(f'./figure/hier_example3.png')\n",
    "\n",
    "# draw a hierarchy\n",
    "#pygraphviz is required\n",
    "hier_agraph_example3 = ReactionNetwork.make_hiergraph(bs_example3)\n",
    "hier_agraph_example3.draw(f'./figure/hier_example3.png')"
   ]
  },
  {
   "cell_type": "markdown",
   "id": "9d2156f7-455d-4cef-9555-25a4f4de3864",
   "metadata": {},
   "source": [
    "The hierarchy graph is "
   ]
  },
  {
   "cell_type": "markdown",
   "id": "53754e84-7d13-4e0d-b9fa-8dc7595d6a36",
   "metadata": {},
   "source": [
    "<img src=\"./figure/hier_example3.png\" width=\"200\"> "
   ]
  },
  {
   "cell_type": "code",
   "execution_count": null,
   "id": "e853f643-1e00-4292-b8bd-c17b09d00882",
   "metadata": {},
   "outputs": [],
   "source": []
  },
  {
   "cell_type": "code",
   "execution_count": null,
   "id": "fd8475de-b2f7-4d12-9fd7-3bcb827986ca",
   "metadata": {},
   "outputs": [],
   "source": []
  }
 ],
 "metadata": {
  "kernelspec": {
   "display_name": "Python 3 (ipykernel)",
   "language": "python",
   "name": "python3"
  },
  "language_info": {
   "codemirror_mode": {
    "name": "ipython",
    "version": 3
   },
   "file_extension": ".py",
   "mimetype": "text/x-python",
   "name": "python",
   "nbconvert_exporter": "python",
   "pygments_lexer": "ipython3",
   "version": "3.8.18"
  }
 },
 "nbformat": 4,
 "nbformat_minor": 5
}
